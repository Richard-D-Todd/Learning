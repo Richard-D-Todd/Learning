{
 "cells": [
  {
   "cell_type": "markdown",
   "metadata": {},
   "source": [
    "# Simulating Dice Rolls\n",
    "\n",
    "I want to investigate how to simulate dice rolls and use Matplotlib to plot the frequencies as histograms.\n",
    "\n",
    "The first function will simulate rolling _x_ number of dice with _d_ faces. This will be repeated _n_ times.\n",
    "\n",
    "The second function will simulate two sets of dice _n_ numbers of times. The first set has _x1_ dice with _d1_ faces. The second set has _x2_ dice with _d2_ faces. "
   ]
  },
  {
   "cell_type": "code",
   "execution_count": 1,
   "metadata": {},
   "outputs": [],
   "source": [
    "%matplotlib inline\n",
    "\n",
    "import numpy as np\n",
    "import matplotlib.pyplot as plt"
   ]
  },
  {
   "cell_type": "code",
   "execution_count": 64,
   "metadata": {},
   "outputs": [],
   "source": [
    "def roll_dice(x, d):\n",
    "    roll = 0\n",
    "    for i in range(x):\n",
    "        roll += np.random.randint(1, d + 1)\n",
    "    return roll\n",
    "\n",
    "def simulate_dice_rolls(n, x, d):\n",
    "    \"\"\"This function simulates n dice rolls, for x number of dice, with d number of faces.\"\"\"\n",
    "    results = []\n",
    "    for i in range(n):\n",
    "        results.append(roll_dice(x, d))\n",
    "    \n",
    "    results = np.asarray(results)\n",
    "    return results\n",
    "    "
   ]
  },
  {
   "cell_type": "code",
   "execution_count": 103,
   "metadata": {},
   "outputs": [],
   "source": [
    "n = 10000\n",
    "x = 3\n",
    "d = 6\n",
    "max_roll = x * d\n",
    "\n",
    "results = simulate_dice_rolls(n, x, d)"
   ]
  },
  {
   "cell_type": "code",
   "execution_count": 104,
   "metadata": {},
   "outputs": [
    {
     "name": "stdout",
     "output_type": "stream",
     "text": [
      "3 51\n",
      "4 134\n",
      "5 292\n",
      "6 487\n",
      "7 689\n",
      "8 947\n",
      "9 1122\n",
      "10 1316\n",
      "11 1278\n",
      "12 1099\n",
      "13 1010\n",
      "14 669\n",
      "15 443\n",
      "16 285\n",
      "17 133\n",
      "18 45\n"
     ]
    }
   ],
   "source": [
    "for i in range(x, max_roll + 1):\n",
    "    print(i, np.sum(results == i))"
   ]
  },
  {
   "cell_type": "code",
   "execution_count": 105,
   "metadata": {},
   "outputs": [
    {
     "data": {
      "text/plain": [
       "(array([  51.,  134.,  292.,  487.,  689.,  947., 1122., 1316., 1278.,\n",
       "        1099., 1010.,  669.,  443.,  285.,  133.,   45.]),\n",
       " array([ 2.5,  3.5,  4.5,  5.5,  6.5,  7.5,  8.5,  9.5, 10.5, 11.5, 12.5,\n",
       "        13.5, 14.5, 15.5, 16.5, 17.5, 18.5]),\n",
       " <a list of 16 Patch objects>)"
      ]
     },
     "execution_count": 105,
     "metadata": {},
     "output_type": "execute_result"
    },
    {
     "data": {
      "image/png": "[encoded data removed]",
      "text/plain": [
       "<Figure size 432x288 with 1 Axes>"
      ]
     },
     "metadata": {
      "needs_background": "light"
     },
     "output_type": "display_data"
    }
   ],
   "source": [
    "plt.hist(results, bins = np.arange(x, max_roll + 2) - 0.5, histtype = 'bar', \n",
    "         rwidth=0.8, facecolor = 'blue', edgecolor=\"k\")"
   ]
  },
  {
   "cell_type": "markdown",
   "metadata": {},
   "source": [
    "## Roll two different sets of dice simultaneously"
   ]
  },
  {
   "cell_type": "code",
   "execution_count": 72,
   "metadata": {},
   "outputs": [],
   "source": [
    "def simulate_two_sets_dice_rolls(n, x1, d1, x2, d2):\n",
    "    \"\"\"This simulates rolling two different sets of dice (with xi dnumber of dice with di number of faces) n times\"\"\"\n",
    "    results_2 = []\n",
    "    for i in range(n):\n",
    "        results_2.append(roll_dice(x1, d1))\n",
    "        results_2.append(roll_dice(x2, d2))\n",
    "        \n",
    "    results_2 = np.asarray(results_2)\n",
    "    return results_2\n"
   ]
  },
  {
   "cell_type": "code",
   "execution_count": 108,
   "metadata": {},
   "outputs": [],
   "source": [
    "n = 10000\n",
    "x1 = 2\n",
    "d1 = 6\n",
    "x2 = 2\n",
    "d2 = 6\n",
    "min_roll = x1 + x2\n",
    "max_roll_2 = (x1 * d1) + (x2 * d2)\n",
    "\n",
    "results_2 = simulate_two_sets_dice_rolls(n, x1, d1, x2, d2)"
   ]
  },
  {
   "cell_type": "code",
   "execution_count": 111,
   "metadata": {},
   "outputs": [
    {
     "data": {
      "text/plain": [
       "(array([1691., 2177., 2806., 3319., 2861., 2181., 1633., 1088.,  557.,\n",
       "           0.,    0.,    0.,    0.,    0.,    0.,    0.,    0.,    0.,\n",
       "           0.,    0.,    0.]),\n",
       " array([ 3.5,  4.5,  5.5,  6.5,  7.5,  8.5,  9.5, 10.5, 11.5, 12.5, 13.5,\n",
       "        14.5, 15.5, 16.5, 17.5, 18.5, 19.5, 20.5, 21.5, 22.5, 23.5, 24.5]),\n",
       " <a list of 21 Patch objects>)"
      ]
     },
     "execution_count": 111,
     "metadata": {},
     "output_type": "execute_result"
    },
    {
     "data": {
      "image/png": "[encoded data removed]",
      "text/plain": [
       "<Figure size 432x288 with 1 Axes>"
      ]
     },
     "metadata": {
      "needs_background": "light"
     },
     "output_type": "display_data"
    }
   ],
   "source": [
    "plt.hist(results_2, bins = np.arange(min_roll, max_roll_2 + 2) - 0.5, histtype = 'bar', \n",
    "         rwidth=0.8, facecolor = 'blue', edgecolor=\"k\")"
   ]
  },
  {
   "cell_type": "code",
   "execution_count": null,
   "metadata": {},
   "outputs": [],
   "source": []
  }
 ],
 "metadata": {
  "kernelspec": {
   "display_name": "Python 3",
   "language": "python",
   "name": "python3"
  },
  "language_info": {
   "codemirror_mode": {
    "name": "ipython",
    "version": 3
   },
   "file_extension": ".py",
   "mimetype": "text/x-python",
   "name": "python",
   "nbconvert_exporter": "python",
   "pygments_lexer": "ipython3",
   "version": "3.7.4"
  }
 },
 "nbformat": 4,
 "nbformat_minor": 2
}
