{
 "cells": [
  {
   "cell_type": "markdown",
   "metadata": {},
   "source": [
    "# Simulating Dice Rolls\n",
    "\n",
    "I want to investigate how to simulate dice rolls and use Matplotlib to plot the frequencies as histograms.\n",
    "\n",
    "The first function will simulate rolling _x_ number of dice with _d_ faces. This will be repeated _n_ times.\n",
    "\n",
    "The second function will simulate two sets of dice _n_ numbers of times. The first set has _x1_ dice with _d1_ faces. The second set has _x2_ dice with _d2_ faces. "
   ]
  },
  {
   "cell_type": "code",
   "execution_count": 1,
   "metadata": {},
   "outputs": [],
   "source": [
    "%matplotlib inline\n",
    "\n",
    "import numpy as np\n",
    "import matplotlib.pyplot as plt"
   ]
  },
  {
   "cell_type": "code",
   "execution_count": 2,
   "metadata": {},
   "outputs": [],
   "source": [
    "def roll_dice(x, d):\n",
    "    \"\"\"\n",
    "    Function to simulate rolling x fair dice with d number of faces\n",
    "    \"\"\"\n",
    "    roll = 0\n",
    "    for i in range(x):\n",
    "        roll += np.random.randint(1, d + 1)\n",
    "    return roll\n",
    "\n",
    "def simulate_dice_rolls(n, x, d):\n",
    "    \"\"\"This function simulates n dice rolls, for x number of dice, with d number of faces.\"\"\"\n",
    "    results = []\n",
    "    for i in range(n):\n",
    "        results.append(roll_dice(x, d))\n",
    "    results = np.asarray(results)\n",
    "    return results\n",
    "    "
   ]
  },
  {
   "cell_type": "code",
   "execution_count": 3,
   "metadata": {},
   "outputs": [],
   "source": [
    "n = 1000\n",
    "x = 4\n",
    "d = 6\n",
    "max_roll = x * d\n",
    "\n",
    "results = simulate_dice_rolls(n, x, d)"
   ]
  },
  {
   "cell_type": "code",
   "execution_count": 4,
   "metadata": {},
   "outputs": [
    {
     "name": "stdout",
     "output_type": "stream",
     "text": [
      "4 0\n",
      "5 4\n",
      "6 7\n",
      "7 21\n",
      "8 27\n",
      "9 36\n",
      "10 68\n",
      "11 97\n",
      "12 97\n",
      "13 118\n",
      "14 112\n",
      "15 105\n",
      "16 85\n",
      "17 79\n",
      "18 51\n",
      "19 40\n",
      "20 24\n",
      "21 19\n",
      "22 4\n",
      "23 4\n",
      "24 2\n"
     ]
    }
   ],
   "source": [
    "for i in range(x, max_roll + 1):\n",
    "    print(i, np.sum(results == i))"
   ]
  },
  {
   "cell_type": "code",
   "execution_count": 5,
   "metadata": {},
   "outputs": [
    {
     "data": {
      "text/plain": [
       "(array([  0.,   4.,   7.,  21.,  27.,  36.,  68.,  97.,  97., 118., 112.,\n",
       "        105.,  85.,  79.,  51.,  40.,  24.,  19.,   4.,   4.,   2.]),\n",
       " array([ 3.5,  4.5,  5.5,  6.5,  7.5,  8.5,  9.5, 10.5, 11.5, 12.5, 13.5,\n",
       "        14.5, 15.5, 16.5, 17.5, 18.5, 19.5, 20.5, 21.5, 22.5, 23.5, 24.5]),\n",
       " <a list of 21 Patch objects>)"
      ]
     },
     "execution_count": 5,
     "metadata": {},
     "output_type": "execute_result"
    },
    {
     "data": {
      "image/png": "[encoded data removed]",
      "text/plain": [
       "<Figure size 432x288 with 1 Axes>"
      ]
     },
     "metadata": {
      "needs_background": "light"
     },
     "output_type": "display_data"
    }
   ],
   "source": [
    "plt.hist(results, bins = np.arange(x, max_roll + 2) - 0.5, histtype = 'bar', \n",
    "         rwidth=0.8, facecolor = 'blue', edgecolor=\"k\")"
   ]
  },
  {
   "cell_type": "markdown",
   "metadata": {},
   "source": [
    "## Roll two different sets of dice simultaneously"
   ]
  },
  {
   "cell_type": "code",
   "execution_count": 6,
   "metadata": {},
   "outputs": [],
   "source": [
    "def simulate_two_sets_dice_rolls(n, x1, d1, x2, d2):\n",
    "    \"\"\"This simulates rolling two different sets of dice (with xi dnumber of dice with di number of faces) n times\"\"\"\n",
    "    results_2 = []\n",
    "    for i in range(n):\n",
    "        results_2.append(roll_dice(x1, d1))\n",
    "        results_2.append(roll_dice(x2, d2))\n",
    "        \n",
    "    results_2 = np.asarray(results_2)\n",
    "    return results_2\n"
   ]
  },
  {
   "cell_type": "code",
   "execution_count": 7,
   "metadata": {},
   "outputs": [],
   "source": [
    "n = 1000\n",
    "x1 = 2\n",
    "d1 = 6\n",
    "x2 = 2\n",
    "d2 = 6\n",
    "min_roll = x1 + x2\n",
    "max_roll_2 = (x1 * d1) + (x2 * d2)\n",
    "\n",
    "results_2 = simulate_two_sets_dice_rolls(n, x1, d1, x2, d2)"
   ]
  },
  {
   "cell_type": "code",
   "execution_count": 8,
   "metadata": {},
   "outputs": [
    {
     "data": {
      "text/plain": [
       "(array([181., 235., 248., 317., 265., 239., 183., 118.,  63.,   0.,   0.,\n",
       "          0.,   0.,   0.,   0.,   0.,   0.,   0.,   0.,   0.,   0.]),\n",
       " array([ 3.5,  4.5,  5.5,  6.5,  7.5,  8.5,  9.5, 10.5, 11.5, 12.5, 13.5,\n",
       "        14.5, 15.5, 16.5, 17.5, 18.5, 19.5, 20.5, 21.5, 22.5, 23.5, 24.5]),\n",
       " <a list of 21 Patch objects>)"
      ]
     },
     "execution_count": 8,
     "metadata": {},
     "output_type": "execute_result"
    },
    {
     "data": {
      "image/png": "[encoded data removed]",
      "text/plain": [
       "<Figure size 432x288 with 1 Axes>"
      ]
     },
     "metadata": {
      "needs_background": "light"
     },
     "output_type": "display_data"
    }
   ],
   "source": [
    "plt.hist(results_2, bins = np.arange(min_roll, max_roll_2 + 2) - 0.5, histtype = 'bar', \n",
    "         rwidth=0.8, facecolor = 'blue', edgecolor=\"k\")"
   ]
  },
  {
   "cell_type": "code",
   "execution_count": null,
   "metadata": {},
   "outputs": [],
   "source": []
  }
 ],
 "metadata": {
  "kernelspec": {
   "display_name": "Python 3",
   "language": "python",
   "name": "python3"
  },
  "language_info": {
   "codemirror_mode": {
    "name": "ipython",
    "version": 3
   },
   "file_extension": ".py",
   "mimetype": "text/x-python",
   "name": "python",
   "nbconvert_exporter": "python",
   "pygments_lexer": "ipython3",
   "version": "3.7.7"
  }
 },
 "nbformat": 4,
 "nbformat_minor": 2
}
